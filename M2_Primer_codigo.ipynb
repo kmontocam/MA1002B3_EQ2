{
 "cells": [
  {
   "cell_type": "markdown",
   "id": "8c34873b",
   "metadata": {},
   "source": [
    "# M2. Primer código\n",
    "\n",
    "Laura Cecilia Diaz Seguy, A01620523 <br />\n",
    "Syeni Perea Zelaya, A010125129 <br />\n",
    "Delfos Gonzalez Zazueta, A01740425 <br />\n",
    "Kevin Montoya Campaña, A01740352"
   ]
  },
  {
   "cell_type": "markdown",
   "id": "dc699669",
   "metadata": {},
   "source": [
    "## Ecuación diferencial a resolver"
   ]
  },
  {
   "cell_type": "markdown",
   "id": "a17722cc",
   "metadata": {},
   "source": [
    "$$ \\frac{dy}{dx} = \\frac{1}{10}\\sqrt{y} + \\frac{2}{5}x^2 $$\n",
    "$$ y(2) = 4 $$\n",
    "$$ \\text{Obtener }y(2.5) $$"
   ]
  },
  {
   "cell_type": "code",
   "execution_count": 2,
   "id": "d496e537",
   "metadata": {},
   "outputs": [],
   "source": [
    "import numpy as np\n",
    "from IPython.display import display, Math, Latex\n",
    "\n",
    "edo = lambda x, y: (1/10) * np.sqrt(y) + (2/5) * (x ** 2)"
   ]
  },
  {
   "cell_type": "markdown",
   "id": "17a25c50",
   "metadata": {},
   "source": [
    "## Función que resuelve ecuaciones diferenciales a través del método de Euler"
   ]
  },
  {
   "cell_type": "code",
   "execution_count": 4,
   "id": "0e8a1a53",
   "metadata": {},
   "outputs": [],
   "source": [
    "def edo_solver_euler_method(edo, a: int, b: int, y: int, n: int):\n",
    "    \n",
    "    interval, delta = np.linspace(a, b, n, endpoint = False, retstep = True)\n",
    "    \n",
    "    for value in interval:\n",
    "        y = y + delta * edo(value, y)\n",
    "    \n",
    "    return y"
   ]
  },
  {
   "cell_type": "markdown",
   "id": "e6679994",
   "metadata": {},
   "source": [
    "### Solución con 10 iteraciones"
   ]
  },
  {
   "cell_type": "code",
   "execution_count": 16,
   "id": "42e0c6f9",
   "metadata": {},
   "outputs": [
    {
     "data": {
      "text/plain": [
       "5.0997461153673305"
      ]
     },
     "execution_count": 16,
     "metadata": {},
     "output_type": "execute_result"
    }
   ],
   "source": [
    "edo_solver_euler_method(edo, 2, 2.5, 4, 10)"
   ]
  },
  {
   "cell_type": "markdown",
   "id": "ff1a3c94",
   "metadata": {},
   "source": [
    "### Solución con 100 iteraciones"
   ]
  },
  {
   "cell_type": "code",
   "execution_count": 17,
   "id": "2dae226e",
   "metadata": {},
   "outputs": [
    {
     "data": {
      "text/plain": [
       "5.1206060026326945"
      ]
     },
     "execution_count": 17,
     "metadata": {},
     "output_type": "execute_result"
    }
   ],
   "source": [
    "edo_solver_euler_method(edo, 2, 2.5, 4, 100)"
   ]
  },
  {
   "cell_type": "markdown",
   "id": "bb9bd77e",
   "metadata": {},
   "source": [
    "### Solución con 500 iteraciones "
   ]
  },
  {
   "cell_type": "code",
   "execution_count": 18,
   "id": "c5f1ab45",
   "metadata": {},
   "outputs": [
    {
     "data": {
      "text/plain": [
       "5.122468039055595"
      ]
     },
     "execution_count": 18,
     "metadata": {},
     "output_type": "execute_result"
    }
   ],
   "source": [
    "edo_solver_euler_method(edo, 2, 2.5, 4, 500)"
   ]
  },
  {
   "cell_type": "markdown",
   "id": "4a49b361",
   "metadata": {},
   "source": [
    "### Solución con 1000 iteraciones"
   ]
  },
  {
   "cell_type": "code",
   "execution_count": 19,
   "id": "0b55bff8",
   "metadata": {},
   "outputs": [
    {
     "data": {
      "text/plain": [
       "5.122700883460807"
      ]
     },
     "execution_count": 19,
     "metadata": {},
     "output_type": "execute_result"
    }
   ],
   "source": [
    "edo_solver_euler_method(edo, 2, 2.5, 4, 1000)"
   ]
  },
  {
   "cell_type": "markdown",
   "id": "dc3f8be1",
   "metadata": {},
   "source": [
    "## ¿A qué conclusión llegaron?\n",
    "\n",
    "Según aumenta el número de iteraciones, aumenta la precisión del método númerico. El resultado obtenido es tan solo una estimación, su exactitud rádica en la distancia entre los valores en el intervalo. Sin embargo, cada vez se requiere un mayor número de iteraciones para encontrar un decimal adicional en el estimado."
   ]
  }
 ],
 "metadata": {
  "kernelspec": {
   "display_name": "Python 3",
   "language": "python",
   "name": "python3"
  },
  "language_info": {
   "codemirror_mode": {
    "name": "ipython",
    "version": 3
   },
   "file_extension": ".py",
   "mimetype": "text/x-python",
   "name": "python",
   "nbconvert_exporter": "python",
   "pygments_lexer": "ipython3",
   "version": "3.8.8"
  }
 },
 "nbformat": 4,
 "nbformat_minor": 5
}
