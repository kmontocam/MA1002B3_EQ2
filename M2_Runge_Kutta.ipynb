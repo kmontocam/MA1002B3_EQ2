{
 "cells": [
  {
   "cell_type": "markdown",
   "metadata": {},
   "source": [
    "# M2. Método de Runge Kutta\n",
    "\n",
    "Laura Cecilia Díaz Seguy, A01620523 <br />\n",
    "Syeni Perea Zelaya, A01025129 <br />\n",
    "Kevin Montoya Campaña, A01740352 <br />\n",
    "Delfos Zazueta González, A01740425 <br />\n",
    "Denisse Alexandra Cavazos Céspedes, A01383022"
   ]
  },
  {
   "cell_type": "code",
   "execution_count": 3,
   "metadata": {},
   "outputs": [],
   "source": [
    "import numpy as np\n",
    "import sympy as sp\n",
    "from IPython.display import display, Math, Latex\n",
    "\n",
    "x = sp.symbols('x')\n",
    "f = sp.Function('f')(x)"
   ]
  },
  {
   "cell_type": "code",
   "execution_count": 18,
   "metadata": {},
   "outputs": [],
   "source": [
    "def h_to_n(a, b, h):\n",
    "    n = (b - a)/h\n",
    "    return int(n)"
   ]
  },
  {
   "cell_type": "code",
   "execution_count": 60,
   "metadata": {},
   "outputs": [],
   "source": [
    "def edo_solver_runge_kutta(diffeq, x_init: float, x_fin: float, y_init: float, n: int):\n",
    "\n",
    "    f_solve = sp.solve(diffeq, sp.Derivative(f, x), dict = False)\n",
    "    f_fun = sp.lambdify([x, f], f_solve)\n",
    "\n",
    "    interval, delta = np.linspace(x_init, x_fin, n, endpoint = False, retstep = True)\n",
    "    # interval, delta = np.linspace(x_init, x_fin, n + 1, endpoint = True, retstep = True)\n",
    "\n",
    "    y = y_init\n",
    "\n",
    "    for ite in interval:\n",
    "\n",
    "        k1 = f_fun(ite, y)[0]\n",
    "        k2 = f_fun(ite + (1/2) * delta, y + (1/2) * k1 * delta)[0]\n",
    "        k3 = f_fun(ite + (1/2) * delta, y + (1/2) * k2 * delta)[0]\n",
    "        k4 = f_fun(ite + delta, y + k3 * delta)[0]\n",
    "\n",
    "        y = y + (k1 + 2 * k2 + 2 * k3 + k4) * delta/6\n",
    "\n",
    "    return y\n"
   ]
  },
  {
   "cell_type": "code",
   "execution_count": 63,
   "metadata": {},
   "outputs": [
    {
     "data": {
      "text/plain": [
       "2.0533388265212693"
      ]
     },
     "execution_count": 63,
     "metadata": {},
     "output_type": "execute_result"
    }
   ],
   "source": [
    "diffeq_3 = sp.Eq(sp.diff(f, x), 2 * x - 3 * f + 1)\n",
    "n = h_to_n(1, 1.5, 0.1)\n",
    "edo_solver_runge_kutta(diffeq_3, 1, 1.5, 5, n)"
   ]
  },
  {
   "cell_type": "code",
   "execution_count": 65,
   "metadata": {},
   "outputs": [
    {
     "data": {
      "text/plain": [
       "1.1036557143759058"
      ]
     },
     "execution_count": 65,
     "metadata": {},
     "output_type": "execute_result"
    }
   ],
   "source": [
    "diffeq_4 = sp.Eq(sp.diff(f, x), 4 * x - 2 * f)\n",
    "n = h_to_n(0, 0.5, 0.1)\n",
    "edo_solver_runge_kutta(diffeq_4, 0, 0.5, 2, n)\n"
   ]
  },
  {
   "cell_type": "code",
   "execution_count": 67,
   "metadata": {},
   "outputs": [
    {
     "data": {
      "text/plain": [
       "0.5463023075836337"
      ]
     },
     "execution_count": 67,
     "metadata": {},
     "output_type": "execute_result"
    }
   ],
   "source": [
    "diffeq_5 = sp.Eq(sp.diff(f, x), 1 + f ** 2)\n",
    "n = h_to_n(0, 0.5, 0.1)\n",
    "edo_solver_runge_kutta(diffeq_5, 0, 0.5, 0, n)"
   ]
  },
  {
   "cell_type": "code",
   "execution_count": 70,
   "metadata": {},
   "outputs": [
    {
     "data": {
      "text/plain": [
       "2.066961015450312"
      ]
     },
     "execution_count": 70,
     "metadata": {},
     "output_type": "execute_result"
    }
   ],
   "source": [
    "diffeq_6 = sp.Eq(sp.diff(f, x), x ** 2 + f ** 2)\n",
    "n = h_to_n(0, 0.5, 0.1)\n",
    "edo_solver_runge_kutta(diffeq_6, 0, 0.5, 1, n)"
   ]
  },
  {
   "cell_type": "code",
   "execution_count": 71,
   "metadata": {},
   "outputs": [
    {
     "data": {
      "text/plain": [
       "0.4054651678893109"
      ]
     },
     "execution_count": 71,
     "metadata": {},
     "output_type": "execute_result"
    }
   ],
   "source": [
    "diffeq_7 = sp.Eq(sp.diff(f, x), sp.exp(-f))\n",
    "n = h_to_n(0, 0.5, 0.1)\n",
    "edo_solver_runge_kutta(diffeq_7, 0, 0.5, 0, n)"
   ]
  }
 ],
 "metadata": {
  "interpreter": {
   "hash": "5cd21e6b7c3569a578c4ab3a539dc03aa045f5cf2dcb8d2e2738eed789ce24d2"
  },
  "kernelspec": {
   "display_name": "Python 3.8.8 64-bit ('base': conda)",
   "name": "python3"
  },
  "language_info": {
   "codemirror_mode": {
    "name": "ipython",
    "version": 3
   },
   "file_extension": ".py",
   "mimetype": "text/x-python",
   "name": "python",
   "nbconvert_exporter": "python",
   "pygments_lexer": "ipython3",
   "version": "3.8.8"
  },
  "orig_nbformat": 4
 },
 "nbformat": 4,
 "nbformat_minor": 2
}