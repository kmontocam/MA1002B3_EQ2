{
 "cells": [
  {
   "cell_type": "markdown",
   "metadata": {},
   "source": [
    "# M2. Método de Runge Kutta\n",
    "\n",
    "Laura Cecilia Díaz Seguy, A01620523 <br />\n",
    "Syeni Perea Zelaya, A01025129 <br />\n",
    "Kevin Montoya Campaña, A01740352 <br />\n",
    "Delfos Zazueta González, A01740425 <br />\n",
    "Denisse Alexandra Cavazos Céspedes, A01383022"
   ]
  },
  {
   "cell_type": "code",
   "execution_count": 5,
   "metadata": {},
   "outputs": [],
   "source": [
    "import numpy as np\n",
    "import sympy as sp\n",
    "from IPython.display import display, Math, Latex\n",
    "\n",
    "x = sp.symbols('x')\n",
    "u = sp.symbols('u')\n",
    "f = sp.Function('f')(x)"
   ]
  },
  {
   "cell_type": "code",
   "execution_count": 66,
   "metadata": {},
   "outputs": [],
   "source": [
    "def h_to_n(a, b, h):\n",
    "    n = round((b - a)/h)\n",
    "    return int(n)"
   ]
  },
  {
   "cell_type": "code",
   "execution_count": 113,
   "metadata": {},
   "outputs": [],
   "source": [
    "def high_order_edo_solver_rk(diffeq, x_init: float, x_fin: float, y_init: float, y1_init: float, n: int):\n",
    "\n",
    "    u_sub = diffeq.subs(f.diff(x), u)\n",
    "    u_solve = sp.solve(u_sub, sp.Derivative(u, x), dict = False)\n",
    "    u_fun = sp.lambdify([x, f, u], u_solve)\n",
    "    dydx = lambda x_value, y_value, z_value: z_value\n",
    "\n",
    "    interval, delta = np.linspace(x_init, x_fin, n, endpoint = False, retstep = True)\n",
    "    # interval, delta = np.linspace(x_init, x_fin, n + 1, endpoint = True, retstep = True)\n",
    "\n",
    "    y = y_init\n",
    "\n",
    "    for ite in interval:\n",
    "\n",
    "        k1 = delta * dydx(ite, y_init, y1_init)\n",
    "        l1 = delta * u_fun(ite, y_init, y1_init)[0]\n",
    "        k2 = delta * dydx(ite + delta/2, y_init + k1/2, y1_init + l1/2)\n",
    "        l2 = delta * u_fun(ite + delta/2, y_init + k1/2, y1_init + l1/2)[0]\n",
    "        k3 = delta * dydx(ite + delta/2, y_init + k2/2, y1_init + l2/2)\n",
    "        l3 = delta * u_fun(ite + delta/2, y_init + k2/2, y1_init + l2/2)[0]\n",
    "        k4 = delta * dydx(ite + delta, y_init + k3, y1_init + l3)\n",
    "        l4 = delta * u_fun(ite + delta, y_init + k3, y1_init + l3)[0]\n",
    "\n",
    "        y1_init = y1_init + (l1 + 2 * l2 + 2 * l3 + l4)/6\n",
    "        y_init = y_init + (k1 + 2 * k2 + 2 * k3 + k4)/6\n",
    "\n",
    "    return y_init"
   ]
  },
  {
   "cell_type": "code",
   "execution_count": 112,
   "metadata": {},
   "outputs": [
    {
     "data": {
      "text/plain": [
       "0.9801459866733333"
      ]
     },
     "execution_count": 112,
     "metadata": {},
     "output_type": "execute_result"
    }
   ],
   "source": [
    "diffeq_1 = sp.Eq(sp.diff(f, x, x), x * sp.diff(f, x) ** 2 - f ** 2)\n",
    "n = h_to_n(0, 0.2, 0.2)\n",
    "high_order_edo_solver_rk(diffeq_1, 0, 0.2, 1, 0, n)"
   ]
  }
 ],
 "metadata": {
  "interpreter": {
   "hash": "aee8b7b246df8f9039afb4144a1f6fd8d2ca17a180786b69acc140d282b71a49"
  },
  "kernelspec": {
   "display_name": "Python 3.9.1 64-bit",
   "name": "python3"
  },
  "language_info": {
   "codemirror_mode": {
    "name": "ipython",
    "version": 3
   },
   "file_extension": ".py",
   "mimetype": "text/x-python",
   "name": "python",
   "nbconvert_exporter": "python",
   "pygments_lexer": "ipython3",
   "version": "3.8.8"
  },
  "orig_nbformat": 4
 },
 "nbformat": 4,
 "nbformat_minor": 2
}