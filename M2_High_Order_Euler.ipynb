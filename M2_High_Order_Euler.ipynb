{
 "cells": [
  {
   "cell_type": "markdown",
   "metadata": {},
   "source": [
    "# M2. Método de Euler para ecuaciónes diferenciales superiores\n",
    "\n",
    "Laura Cecilia Diaz Seguy, A01620523 <br />\n",
    "Syeni Perea Zelaya, A010125129 <br />\n",
    "Delfos Gonzalez Zazueta, A01740425 <br />\n",
    "Denisse Alexandra Cavazos Céspedes, A01383022 <br />\n",
    "Kevin Montoya Campaña, A01740352"
   ]
  },
  {
   "cell_type": "code",
   "execution_count": 2,
   "metadata": {},
   "outputs": [
    {
     "ename": "ModuleNotFoundError",
     "evalue": "No module named 'numpy'",
     "output_type": "error",
     "traceback": [
      "\u001b[0;31m---------------------------------------------------------------------------\u001b[0m",
      "\u001b[0;31mModuleNotFoundError\u001b[0m                       Traceback (most recent call last)",
      "\u001b[0;32m/var/folders/35/qszhsmy97qx2lp6jm0vsbypc0000gn/T/ipykernel_34663/2801335862.py\u001b[0m in \u001b[0;36m<module>\u001b[0;34m\u001b[0m\n\u001b[0;32m----> 1\u001b[0;31m \u001b[0;32mimport\u001b[0m \u001b[0mnumpy\u001b[0m \u001b[0;32mas\u001b[0m \u001b[0mnp\u001b[0m\u001b[0;34m\u001b[0m\u001b[0;34m\u001b[0m\u001b[0m\n\u001b[0m\u001b[1;32m      2\u001b[0m \u001b[0;32mimport\u001b[0m \u001b[0msympy\u001b[0m \u001b[0;32mas\u001b[0m \u001b[0msp\u001b[0m\u001b[0;34m\u001b[0m\u001b[0;34m\u001b[0m\u001b[0m\n\u001b[1;32m      3\u001b[0m \u001b[0;32mfrom\u001b[0m \u001b[0mIPython\u001b[0m\u001b[0;34m.\u001b[0m\u001b[0mdisplay\u001b[0m \u001b[0;32mimport\u001b[0m \u001b[0mdisplay\u001b[0m\u001b[0;34m,\u001b[0m \u001b[0mMath\u001b[0m\u001b[0;34m,\u001b[0m \u001b[0mLatex\u001b[0m\u001b[0;34m\u001b[0m\u001b[0;34m\u001b[0m\u001b[0m\n\u001b[1;32m      4\u001b[0m \u001b[0;34m\u001b[0m\u001b[0m\n\u001b[1;32m      5\u001b[0m \u001b[0mx\u001b[0m \u001b[0;34m=\u001b[0m \u001b[0msp\u001b[0m\u001b[0;34m.\u001b[0m\u001b[0msymbols\u001b[0m\u001b[0;34m(\u001b[0m\u001b[0;34m'x'\u001b[0m\u001b[0;34m)\u001b[0m\u001b[0;34m\u001b[0m\u001b[0;34m\u001b[0m\u001b[0m\n",
      "\u001b[0;31mModuleNotFoundError\u001b[0m: No module named 'numpy'"
     ]
    }
   ],
   "source": [
    "import numpy as np\n",
    "import sympy as sp\n",
    "from IPython.display import display, Math, Latex\n",
    "\n",
    "x = sp.symbols('x')\n",
    "u = sp.symbols('u')\n",
    "f = sp.Function('f')(x)"
   ]
  },
  {
   "cell_type": "code",
   "execution_count": null,
   "metadata": {},
   "outputs": [],
   "source": [
    "def h_to_n(a, b, h):\n",
    "    n = round((b - a)/h)\n",
    "    return n"
   ]
  },
  {
   "cell_type": "code",
   "execution_count": null,
   "metadata": {},
   "outputs": [],
   "source": [
    "def high_order_euler_solver(diffeq, x_0: float, x_end: float, y_val: float, y1_val: float, n: float):\n",
    "    \n",
    "    u_sub = diffeq.subs(f.diff(x), u)\n",
    "    u_solve = sp.solve(u_sub, sp.Derivative(u, x), dict = False)\n",
    "    u_fun = sp.lambdify([x, f, u], u_solve)\n",
    "    \n",
    "    interval, delta = np.linspace(x_0, x_end, n + 1, endpoint = True, retstep = True)\n",
    "    \n",
    "    for ite in interval:\n",
    "        \n",
    "        u_n = u_fun(ite, y_val, y1_val)[0]\n",
    "        \n",
    "        y_val = y_val + y1_val * delta\n",
    "        \n",
    "        y1_val = y1_val + u_n * delta\n",
    "        \n",
    "    return y_val"
   ]
  },
  {
   "cell_type": "code",
   "execution_count": null,
   "metadata": {},
   "outputs": [
    {
     "data": {
      "text/plain": [
       "9.600000000000001"
      ]
     },
     "execution_count": 220,
     "metadata": {},
     "output_type": "execute_result"
    }
   ],
   "source": [
    "diffeq = sp.Eq(x ** 2 * f.diff(x, x) - 2 * x * f.diff(x) + 2 * f, 0)\n",
    "\n",
    "n = h_to_n(1, 1.2, 0.1)\n",
    "\n",
    "high_order_euler_solver(diffeq, 1, 1.2, 8, 8, n)"
   ]
  },
  {
   "cell_type": "markdown",
   "metadata": {},
   "source": []
  }
 ],
 "metadata": {
  "interpreter": {
   "hash": "aee8b7b246df8f9039afb4144a1f6fd8d2ca17a180786b69acc140d282b71a49"
  },
  "kernelspec": {
   "display_name": "Python 3",
   "language": "python",
   "name": "python3"
  },
  "language_info": {
   "codemirror_mode": {
    "name": "ipython",
    "version": 3
   },
   "file_extension": ".py",
   "mimetype": "text/x-python",
   "name": "python",
   "nbconvert_exporter": "python",
   "pygments_lexer": "ipython3",
   "version": "3.8.8"
  }
 },
 "nbformat": 4,
 "nbformat_minor": 2
}