{
 "cells": [
  {
   "cell_type": "markdown",
   "metadata": {},
   "source": [
    "# M2. Método de Euler para ecuaciónes diferenciales superiores\n",
    "\n",
    "Laura Cecilia Diaz Seguy, A01620523 <br />\n",
    "Syeni Perea Zelaya, A010125129 <br />\n",
    "Delfos Gonzalez Zazueta, A01740425 <br />\n",
    "Denisse Alexandra Cavazos Céspedes, A01383022 <br />\n",
    "Kevin Montoya Campaña, A01740352"
   ]
  },
  {
   "cell_type": "code",
   "execution_count": 89,
   "metadata": {},
   "outputs": [],
   "source": [
    "import numpy as np\n",
    "import sympy as sp\n",
    "from IPython.display import display, Math, Latex\n",
    "\n",
    "x = sp.symbols('x')\n",
    "u = sp.symbols('u')\n",
    "f = sp.Function('f')(x)"
   ]
  },
  {
   "cell_type": "code",
   "execution_count": 88,
   "metadata": {},
   "outputs": [],
   "source": [
    "def h_to_n(a, b, h):\n",
    "    n = round((b - a)/h)\n",
    "    return n"
   ]
  },
  {
   "cell_type": "code",
   "execution_count": 87,
   "metadata": {},
   "outputs": [],
   "source": [
    "def high_order_euler_solver(diffeq, x_0: float, x_end: float, y_val: float, y1_val: float, n: float):\n",
    "    \n",
    "    u_sub = diffeq.subs(f.diff(x), u)\n",
    "    u_solve = sp.solve(u_sub, sp.Derivative(u, x), dict = False)\n",
    "    u_fun = sp.lambdify([x, f, u], u_solve)\n",
    "    \n",
    "    interval, delta = np.linspace(x_0, x_end, n, endpoint = False, retstep = True)\n",
    "    \n",
    "    for ite in interval:\n",
    "        \n",
    "        u_n = u_fun(ite, y_val, y1_val)[0]\n",
    "        \n",
    "        y_val = y_val + y1_val * delta\n",
    "        \n",
    "        y1_val = y1_val + u_n * delta\n",
    "        \n",
    "    return y_val"
   ]
  },
  {
   "cell_type": "code",
   "execution_count": 86,
   "metadata": {},
   "outputs": [
    {
     "data": {
      "text/plain": [
       "9.600000000000001"
      ]
     },
     "execution_count": 86,
     "metadata": {},
     "output_type": "execute_result"
    }
   ],
   "source": [
    "diffeq = sp.Eq(x ** 2 * f.diff(x, x) - 2 * x * f.diff(x) + 2 * f, 0)\n",
    "\n",
    "n = h_to_n(1, 1.2, 0.1)\n",
    "\n",
    "high_order_euler_solver(diffeq, 1, 1.2, 8, 8, n)"
   ]
  },
  {
   "cell_type": "markdown",
   "metadata": {},
   "source": []
  }
 ],
 "metadata": {
  "interpreter": {
   "hash": "5cd21e6b7c3569a578c4ab3a539dc03aa045f5cf2dcb8d2e2738eed789ce24d2"
  },
  "kernelspec": {
   "display_name": "Python 3.8.8 64-bit ('base': conda)",
   "name": "python3"
  },
  "language_info": {
   "codemirror_mode": {
    "name": "ipython",
    "version": 3
   },
   "file_extension": ".py",
   "mimetype": "text/x-python",
   "name": "python",
   "nbconvert_exporter": "python",
   "pygments_lexer": "ipython3",
   "version": "3.8.8"
  }
 },
 "nbformat": 4,
 "nbformat_minor": 2
}