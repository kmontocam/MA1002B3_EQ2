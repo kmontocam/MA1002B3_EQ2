{
 "cells": [
  {
   "cell_type": "markdown",
   "metadata": {},
   "source": [
    "# M2. Método de Euler para ecuaciónes diferenciales superiores\n",
    "\n",
    "Laura Cecilia Diaz Seguy, A01620523\n",
    "Syeni Perea Zelaya, A010125129\n",
    "Delfos Gonzalez Zazueta, A01740425\n",
    "Denisse Alexandra Cavazos Céspedes, A01383022\n",
    "Kevin Montoya Campaña, A01740352"
   ]
  },
  {
   "cell_type": "code",
   "execution_count": 9,
   "metadata": {},
   "outputs": [],
   "source": [
    "import numpy as np\n",
    "import sympy as sp\n",
    "from IPython.display import display, Math, Latex\n",
    "\n",
    "x = sp.symbols('x')\n",
    "u = sp.symbols('u')\n",
    "y = sp.Function('y')"
   ]
  },
  {
   "cell_type": "code",
   "execution_count": 4,
   "metadata": {},
   "outputs": [
    {
     "data": {
      "text/latex": [
       "$\\displaystyle x^{2} \\frac{d^{2}}{d x^{2}} y{\\left(x \\right)} - 2 x \\frac{d}{d x} y{\\left(x \\right)} + 2 y{\\left(x \\right)} = 0$"
      ],
      "text/plain": [
       "Eq(x**2*Derivative(y(x), (x, 2)) - 2*x*Derivative(y(x), x) + 2*y(x), 0)"
      ]
     },
     "execution_count": 4,
     "metadata": {},
     "output_type": "execute_result"
    }
   ],
   "source": [
    "diffeq_1 = sp.Eq(x ** 2 * sp.Derivative(y(x), x, x) - 2 * x * sp.Derivative(y(x), x) + 2 * y(x) , 0)\n"
   ]
  },
  {
   "cell_type": "code",
   "execution_count": 22,
   "metadata": {},
   "outputs": [
    {
     "data": {
      "text/latex": [
       "$\\displaystyle - 2 u x + x^{2} \\frac{d}{d x} u + 2 y{\\left(x \\right)} = 0$"
      ],
      "text/plain": [
       "Eq(-2*u*x + x**2*Derivative(u, x) + 2*y(x), 0)"
      ]
     },
     "execution_count": 22,
     "metadata": {},
     "output_type": "execute_result"
    }
   ],
   "source": [
    "diffeq = (x ** 2 * sp.Derivative(y(x), x, x) - 2 * x * sp.Derivative(y(x), x) + 2 * y(x))\n",
    "diffeq = diffeq.subs((sp.Derivative(y(x), x)), u)\n",
    "diffeq = sp.Eq(diffeq, 0)\n",
    "diffeq"
   ]
  },
  {
   "cell_type": "markdown",
   "metadata": {},
   "source": []
  }
 ],
 "metadata": {
  "interpreter": {
   "hash": "aee8b7b246df8f9039afb4144a1f6fd8d2ca17a180786b69acc140d282b71a49"
  },
  "kernelspec": {
   "display_name": "Python 3",
   "language": "python",
   "name": "python3"
  },
  "language_info": {
   "codemirror_mode": {
    "name": "ipython",
    "version": 3
   },
   "file_extension": ".py",
   "mimetype": "text/x-python",
   "name": "python",
   "nbconvert_exporter": "python",
   "pygments_lexer": "ipython3",
   "version": "3.8.8"
  }
 },
 "nbformat": 4,
 "nbformat_minor": 2
}
